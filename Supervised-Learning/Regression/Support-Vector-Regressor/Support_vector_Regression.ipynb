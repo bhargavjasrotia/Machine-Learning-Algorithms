{
  "nbformat": 4,
  "nbformat_minor": 0,
  "metadata": {
    "colab": {
      "provenance": [],
      "include_colab_link": true
    },
    "kernelspec": {
      "name": "python3",
      "display_name": "Python 3"
    },
    "language_info": {
      "name": "python"
    }
  },
  "cells": [
    {
      "cell_type": "markdown",
      "metadata": {
        "id": "view-in-github",
        "colab_type": "text"
      },
      "source": [
        "<a href=\"https://colab.research.google.com/github/bhargavjasrotia/Machine-Learning-Algorithms/blob/main/Supervised-Learning/Regression/Support-Vector-Regressor/Support_vector_Regression.ipynb\" target=\"_parent\"><img src=\"https://colab.research.google.com/assets/colab-badge.svg\" alt=\"Open In Colab\"/></a>"
      ]
    },
    {
      "cell_type": "markdown",
      "metadata": {
        "id": "4NC4o15W0wWN"
      },
      "source": [
        "# The SVC method can be extended to solve even regression problems. This method is called Support Vector Regression."
      ]
    },
    {
      "cell_type": "code",
      "metadata": {
        "id": "aXwMWGl_004k"
      },
      "source": [
        "import numpy as np\n",
        "import matplotlib.pyplot as plt\n",
        "from sklearn import svm\n",
        "from sklearn import datasets"
      ],
      "execution_count": null,
      "outputs": []
    },
    {
      "cell_type": "code",
      "metadata": {
        "id": "yhJRFotM03Es"
      },
      "source": [
        "#load dataset\n",
        "diabetes = datasets.load_diabetes()\n",
        "x_train = diabetes.data[:-20]\n",
        "y_train = diabetes.target[:-20]\n",
        "x_test = diabetes.data[-20:]\n",
        "y_test = diabetes.target[-20:]"
      ],
      "execution_count": null,
      "outputs": []
    },
    {
      "cell_type": "code",
      "metadata": {
        "id": "7RrsAP3B07jV"
      },
      "source": [
        "#prepare test data\n",
        "x0_test = x_test[:,2]\n",
        "x0_train = x_train[:,2]\n",
        "x0_test = x0_test[:,np.newaxis]\n",
        "x0_train = x0_train[:,np.newaxis]"
      ],
      "execution_count": null,
      "outputs": []
    },
    {
      "cell_type": "code",
      "metadata": {
        "id": "La6J4LKn1DK8"
      },
      "source": [
        "x0_test.sort(axis=0)\n",
        "x0_test = x0_test*100\n",
        "x0_train = x0_train*100"
      ],
      "execution_count": null,
      "outputs": []
    },
    {
      "cell_type": "code",
      "metadata": {
        "id": "YC1P_4vz1Fxs"
      },
      "source": [
        "svr = svm.SVR(kernel='linear',C=1.0)\n",
        "svr2 = svm.SVR(kernel='poly',C=1.0,degree=2)\n",
        "svr3 = svm.SVR(kernel='poly',C=1.0,degree=3)"
      ],
      "execution_count": null,
      "outputs": []
    },
    {
      "cell_type": "code",
      "metadata": {
        "colab": {
          "base_uri": "https://localhost:8080/"
        },
        "id": "jqEHkUlB1KYc",
        "outputId": "4f037089-5976-44c8-f481-3281398ae0f5"
      },
      "source": [
        "svr.fit(x0_train,y_train)\n",
        "svr2.fit(x0_train,y_train)\n",
        "svr3.fit(x0_train,y_train)"
      ],
      "execution_count": null,
      "outputs": [
        {
          "output_type": "execute_result",
          "data": {
            "text/plain": [
              "SVR(C=1000, cache_size=200, coef0=0.0, degree=3, epsilon=0.1, gamma='scale',\n",
              "    kernel='poly', max_iter=-1, shrinking=True, tol=0.001, verbose=False)"
            ]
          },
          "metadata": {
            "tags": []
          },
          "execution_count": 6
        }
      ]
    },
    {
      "cell_type": "code",
      "metadata": {
        "id": "bBJwhdQw1M4u"
      },
      "source": [
        "y = svr.predict(x0_test)\n",
        "y2 = svr2.predict(x0_test)\n",
        "y3 = svr3.predict(x0_test)"
      ],
      "execution_count": null,
      "outputs": []
    },
    {
      "cell_type": "code",
      "metadata": {
        "colab": {
          "base_uri": "https://localhost:8080/",
          "height": 283
        },
        "id": "V_bmSLYA1O_U",
        "outputId": "bc2e360e-ec8d-4b34-ad8a-503a4e322e71"
      },
      "source": [
        "plt.scatter(x0_test,y_test,color='k')\n",
        "plt.plot(x0_test,y,color='b')\n",
        "plt.plot(x0_test,y2,c='r')\n",
        "plt.plot(x0_test,y3,c='g')"
      ],
      "execution_count": null,
      "outputs": [
        {
          "output_type": "execute_result",
          "data": {
            "text/plain": [
              "[<matplotlib.lines.Line2D at 0x7fcfd425ce10>]"
            ]
          },
          "metadata": {
            "tags": []
          },
          "execution_count": 8
        },
        {
          "output_type": "display_data",
          "data": {
            "image/png": "[encoded data removed]",
            "text/plain": [
              "<Figure size 432x288 with 1 Axes>"
            ]
          },
          "metadata": {
            "tags": [],
            "needs_background": "light"
          }
        }
      ]
    }
  ]
}